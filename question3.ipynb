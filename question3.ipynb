{
 "cells": [
  {
   "cell_type": "code",
   "execution_count": null,
   "id": "initial_id",
   "metadata": {
    "collapsed": true
   },
   "outputs": [],
   "source": [
    "from sklearn.preprocessing import StandardScaler\n",
    "from sklearn.metrics import f1_score\n",
    "from sklearn.model_selection import GridSearchCV\n",
    "from sklearn.model_selection import train_test_split\n",
    "from sklearn.linear_model import LogisticRegressionCV, LogisticRegression\n",
    "from sklearn.tree import DecisionTreeClassifier\n",
    "import yfinance as yf\n",
    "import numpy as np\n",
    "from sklearn.metrics import accuracy_score\n",
    "import pandas as pd\n",
    "import warnings\n",
    "from sklearn.metrics import classification_report"
   ]
  },
  {
   "cell_type": "code",
   "execution_count": null,
   "outputs": [],
   "source": [
    "warnings.filterwarnings('ignore')"
   ],
   "metadata": {
    "collapsed": false
   },
   "id": "85ef0fd73685f593"
  },
  {
   "cell_type": "code",
   "execution_count": null,
   "outputs": [],
   "source": [
    "xmr = yf.Ticker(\"XMR-USD\")\n",
    "df_xmr = yf.download(tickers = \"XMR-USD\",\n",
    "                     period = \"max\",\n",
    "                     interval = \"1d\")"
   ],
   "metadata": {
    "collapsed": false
   },
   "id": "4b3dd7fbf41f1477"
  },
  {
   "cell_type": "code",
   "execution_count": null,
   "outputs": [],
   "source": [
    "df_xmr['Close_diff'] = df_xmr['Close'].diff()\n",
    "\n",
    "# Create a new column 'Target' with binary values\n",
    "df_xmr['Target'] = df_xmr['Close_diff'].apply(lambda x: 1 if x > 0 else 0)\n",
    "\n",
    "# Remove the first row since it doesn't have a previous day to compare with\n",
    "df_xmr = df_xmr[1:]"
   ],
   "metadata": {
    "collapsed": false
   },
   "id": "4e01e321488d768d"
  },
  {
   "cell_type": "code",
   "execution_count": null,
   "outputs": [],
   "source": [
    "# Select the features and target variable\n",
    "X = df_xmr[['Open', 'High', 'Low', 'Close', 'Adj Close', 'Volume']]\n",
    "y = df_xmr['Target']"
   ],
   "metadata": {
    "collapsed": false
   },
   "id": "32661068f2032a4c"
  },
  {
   "cell_type": "code",
   "execution_count": null,
   "outputs": [],
   "source": [
    "# Split the data into training and testing sets\n",
    "X_train, X_test, y_train, y_test = train_test_split(X, y, test_size=0.2, random_state=42)"
   ],
   "metadata": {
    "collapsed": false
   },
   "id": "75a65c8dc16653bc"
  },
  {
   "cell_type": "code",
   "execution_count": null,
   "outputs": [],
   "source": [
    "# Create an instance of the classifier\n",
    "clf = DecisionTreeClassifier()\n",
    "\n",
    "# Train the model\n",
    "clf.fit(X_train, y_train)"
   ],
   "metadata": {
    "collapsed": false
   },
   "id": "c49b17fecd6857c6"
  },
  {
   "cell_type": "code",
   "execution_count": null,
   "outputs": [],
   "source": [
    "# Make predictions on the testing data\n",
    "y_pred = clf.predict(X_test)\n",
    "\n",
    "# Calculate the accuracy of the model\n",
    "print(\"Accuracy:\", accuracy_score(y_test, y_pred))\n",
    "print(classification_report(y_test, y_pred))\n",
    "print(f1_score(y_test, y_pred))"
   ],
   "metadata": {
    "collapsed": false
   },
   "id": "46d2f38feb103618"
  },
  {
   "cell_type": "code",
   "execution_count": null,
   "outputs": [],
   "source": [
    "# Prepare the new data (similar to step 1)\n",
    "# Assuming you have a new DataFrame called 'new_data'\n",
    "new_data = pd.DataFrame()\n",
    "new_data['Close_diff'] = new_data['Close'].diff()\n",
    "new_data['Target'] = new_data['Close_diff'].apply(lambda x: 1 if x > 0 else 0)\n",
    "new_data = new_data[1:]\n",
    "\n",
    "# Select the features for prediction\n",
    "X_new = new_data[['Open', 'High', 'Low', 'Close', 'Adj Close', 'Volume']]\n",
    "\n",
    "# Make predictions on the new data\n",
    "predictions = clf.predict(X_new)"
   ],
   "metadata": {
    "collapsed": false
   },
   "id": "a34314d944534021"
  },
  {
   "cell_type": "code",
   "execution_count": null,
   "outputs": [],
   "source": [
    "df_xmr[\"will_increase\"] = np.where(df_xmr[\"Close\"] - df_xmr[\"Open\"] > 0, 1, 0)"
   ],
   "metadata": {
    "collapsed": false
   },
   "id": "f2287d3f8a7d140d"
  },
  {
   "cell_type": "code",
   "execution_count": null,
   "outputs": [],
   "source": [
    "\n"
   ],
   "metadata": {
    "collapsed": false,
    "is_executing": true
   },
   "id": "d7936e9b0c38986b"
  },
  {
   "cell_type": "code",
   "execution_count": null,
   "outputs": [],
   "source": [
    "\n",
    "df_xmr['Close_diff'] = df_xmr['Close'].diff()\n",
    "\n",
    "# Create a new column 'Target' with binary values\n",
    "df_xmr['Target'] = df_xmr['Close_diff'].apply(lambda x: 1 if x > 0 else 0)\n",
    "\n",
    "# Remove the first row since it doesn't have a previous day to compare with\n",
    "df_xmr = df_xmr[1:]"
   ],
   "metadata": {
    "collapsed": false
   },
   "id": "512c73a57aa1002c"
  },
  {
   "cell_type": "code",
   "execution_count": null,
   "outputs": [],
   "source": [
    "# Select the features and target variable\n",
    "X = df_xmr[['Open', 'High', 'Low', 'Close', 'Adj Close', 'Volume']]\n",
    "y = df_xmr['Target']\n",
    "# Split the data into training and testing sets\n",
    "X_train, X_test, y_train, y_test = train_test_split(X, y, test_size=0.33, random_state=42)"
   ],
   "metadata": {
    "collapsed": false
   },
   "id": "f9ba0cb107534151"
  },
  {
   "cell_type": "code",
   "execution_count": null,
   "outputs": [],
   "source": [
    "cls = LogisticRegressionCV()\n",
    "params = {\n",
    "    'Cs': [1000, 100, 10, 1, 0.1, 0.01, 0.001, 0.0001],\n",
    "    'max_iter': [100, 1000],\n",
    "    'penalty': ['l1', 'l2'],\n",
    "    'solver': ['liblinear', 'lbfgs']\n",
    "}\n",
    "grid_search = GridSearchCV(estimator=cls, param_grid=params,cv=5)\n",
    "grid_search.fit(X_train, y_train)"
   ],
   "metadata": {
    "collapsed": false
   },
   "id": "a30a92badbe511b3"
  },
  {
   "cell_type": "code",
   "execution_count": null,
   "outputs": [],
   "source": [
    "model = LogisticRegression(solver=grid_search.best_params_['solver'],\n",
    "                         C=grid_search.best_params_['C'], \n",
    "                         max_iter=grid_search.best_params_['max_iter'], \n",
    "                         penalty=grid_search.best_params_['penalty'], \n",
    "                         random_state=42)\n",
    "model.fit(X_train, y_train)"
   ],
   "metadata": {
    "collapsed": false
   },
   "id": "778040d5d9e41c55"
  },
  {
   "cell_type": "code",
   "execution_count": null,
   "outputs": [],
   "source": [
    "y_pred=model.predict(X_test)\n",
    "print(accuracy_score(y_test, y_pred))\n",
    "print(classification_report(y_test, y_pred))\n",
    "print(f1_score(y_test, y_pred))"
   ],
   "metadata": {
    "collapsed": false
   },
   "id": "93d09cce2056e670"
  }
 ],
 "metadata": {
  "kernelspec": {
   "display_name": "Python 3",
   "language": "python",
   "name": "python3"
  },
  "language_info": {
   "codemirror_mode": {
    "name": "ipython",
    "version": 2
   },
   "file_extension": ".py",
   "mimetype": "text/x-python",
   "name": "python",
   "nbconvert_exporter": "python",
   "pygments_lexer": "ipython2",
   "version": "2.7.6"
  }
 },
 "nbformat": 4,
 "nbformat_minor": 5
}
