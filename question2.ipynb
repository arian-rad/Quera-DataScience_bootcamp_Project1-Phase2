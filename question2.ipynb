{
 "cells": [
  {
   "cell_type": "code",
   "execution_count": 2,
   "id": "initial_id",
   "metadata": {
    "collapsed": true,
    "ExecuteTime": {
     "end_time": "2023-10-14T14:46:12.285399Z",
     "start_time": "2023-10-14T14:46:10.060803Z"
    }
   },
   "outputs": [
    {
     "data": {
      "text/plain": "   Symbol        Volume     MarketCap      TotalSupply   ProofType  \\\n0     LEO  1.823284e+06  3.586504e+09        985239504         PoS   \n1     UNI  9.918768e+07  3.992451e+09       1000000000         PoS   \n2    WBTC  1.415410e+08  4.237575e+09           163106         PoW   \n3    AVAX  2.197065e+08  4.901630e+09        431804080         PoS   \n4     DAI  2.177113e+08  5.513661e+09       5347888596  stablecoin   \n5    SHIB  2.479944e+08  5.606251e+09  589589040239380         PoS   \n6     LTC  5.913019e+08  5.729295e+09         84000000         PoW   \n7     TRX  2.719028e+08  6.018922e+09      88996805683         PoS   \n8     DOT  2.035592e+08  6.659550e+09       1364182225         PoW   \n9   MATIC  4.232990e+08  8.053185e+09      10000000000         PoS   \n10    SOL  6.338963e+08  8.349993e+09        559509636         PoH   \n11   DOGE  6.311493e+08  1.034239e+10     141339436384         PoW   \n12    ADA  3.647996e+08  1.210914e+10      36244287753         PoS   \n13   BUSD  5.084396e+09  1.213299e+10       2213836281  stablecoin   \n14    XRP  1.349225e+09  2.358166e+10      99988380689        RPCA   \n15   USDC  3.665726e+09  3.731741e+10      25540319537  stablecoin   \n16    BNB  6.807966e+08  4.459966e+10        153845639         PoS   \n17   USDT  3.314948e+10  7.458818e+10        866300000  stablecoin   \n18    ETH  8.843689e+09  1.960824e+11        120249203         PoS   \n19    BTC  2.296764e+10  4.590837e+11         19508418         PoW   \n\n                Network  \n0              Ethereum  \n1              Ethereum  \n2              Ethereum  \n3             Avalanche  \n4              Ethereum  \n5              Ethereum  \n6              Litecoin  \n7                  Tron  \n8              Polkadot  \n9               Polygon  \n10               Solana  \n11             Dogecoin  \n12              Cardano  \n13  Binance Smart Chain  \n14           XRP Ledger  \n15             Ethereum  \n16  Binance Smart Chain  \n17             Ethereum  \n18             Ethereum  \n19              Bitcoin  ",
      "text/html": "<div>\n<style scoped>\n    .dataframe tbody tr th:only-of-type {\n        vertical-align: middle;\n    }\n\n    .dataframe tbody tr th {\n        vertical-align: top;\n    }\n\n    .dataframe thead th {\n        text-align: right;\n    }\n</style>\n<table border=\"1\" class=\"dataframe\">\n  <thead>\n    <tr style=\"text-align: right;\">\n      <th></th>\n      <th>Symbol</th>\n      <th>Volume</th>\n      <th>MarketCap</th>\n      <th>TotalSupply</th>\n      <th>ProofType</th>\n      <th>Network</th>\n    </tr>\n  </thead>\n  <tbody>\n    <tr>\n      <th>0</th>\n      <td>LEO</td>\n      <td>1.823284e+06</td>\n      <td>3.586504e+09</td>\n      <td>985239504</td>\n      <td>PoS</td>\n      <td>Ethereum</td>\n    </tr>\n    <tr>\n      <th>1</th>\n      <td>UNI</td>\n      <td>9.918768e+07</td>\n      <td>3.992451e+09</td>\n      <td>1000000000</td>\n      <td>PoS</td>\n      <td>Ethereum</td>\n    </tr>\n    <tr>\n      <th>2</th>\n      <td>WBTC</td>\n      <td>1.415410e+08</td>\n      <td>4.237575e+09</td>\n      <td>163106</td>\n      <td>PoW</td>\n      <td>Ethereum</td>\n    </tr>\n    <tr>\n      <th>3</th>\n      <td>AVAX</td>\n      <td>2.197065e+08</td>\n      <td>4.901630e+09</td>\n      <td>431804080</td>\n      <td>PoS</td>\n      <td>Avalanche</td>\n    </tr>\n    <tr>\n      <th>4</th>\n      <td>DAI</td>\n      <td>2.177113e+08</td>\n      <td>5.513661e+09</td>\n      <td>5347888596</td>\n      <td>stablecoin</td>\n      <td>Ethereum</td>\n    </tr>\n    <tr>\n      <th>5</th>\n      <td>SHIB</td>\n      <td>2.479944e+08</td>\n      <td>5.606251e+09</td>\n      <td>589589040239380</td>\n      <td>PoS</td>\n      <td>Ethereum</td>\n    </tr>\n    <tr>\n      <th>6</th>\n      <td>LTC</td>\n      <td>5.913019e+08</td>\n      <td>5.729295e+09</td>\n      <td>84000000</td>\n      <td>PoW</td>\n      <td>Litecoin</td>\n    </tr>\n    <tr>\n      <th>7</th>\n      <td>TRX</td>\n      <td>2.719028e+08</td>\n      <td>6.018922e+09</td>\n      <td>88996805683</td>\n      <td>PoS</td>\n      <td>Tron</td>\n    </tr>\n    <tr>\n      <th>8</th>\n      <td>DOT</td>\n      <td>2.035592e+08</td>\n      <td>6.659550e+09</td>\n      <td>1364182225</td>\n      <td>PoW</td>\n      <td>Polkadot</td>\n    </tr>\n    <tr>\n      <th>9</th>\n      <td>MATIC</td>\n      <td>4.232990e+08</td>\n      <td>8.053185e+09</td>\n      <td>10000000000</td>\n      <td>PoS</td>\n      <td>Polygon</td>\n    </tr>\n    <tr>\n      <th>10</th>\n      <td>SOL</td>\n      <td>6.338963e+08</td>\n      <td>8.349993e+09</td>\n      <td>559509636</td>\n      <td>PoH</td>\n      <td>Solana</td>\n    </tr>\n    <tr>\n      <th>11</th>\n      <td>DOGE</td>\n      <td>6.311493e+08</td>\n      <td>1.034239e+10</td>\n      <td>141339436384</td>\n      <td>PoW</td>\n      <td>Dogecoin</td>\n    </tr>\n    <tr>\n      <th>12</th>\n      <td>ADA</td>\n      <td>3.647996e+08</td>\n      <td>1.210914e+10</td>\n      <td>36244287753</td>\n      <td>PoS</td>\n      <td>Cardano</td>\n    </tr>\n    <tr>\n      <th>13</th>\n      <td>BUSD</td>\n      <td>5.084396e+09</td>\n      <td>1.213299e+10</td>\n      <td>2213836281</td>\n      <td>stablecoin</td>\n      <td>Binance Smart Chain</td>\n    </tr>\n    <tr>\n      <th>14</th>\n      <td>XRP</td>\n      <td>1.349225e+09</td>\n      <td>2.358166e+10</td>\n      <td>99988380689</td>\n      <td>RPCA</td>\n      <td>XRP Ledger</td>\n    </tr>\n    <tr>\n      <th>15</th>\n      <td>USDC</td>\n      <td>3.665726e+09</td>\n      <td>3.731741e+10</td>\n      <td>25540319537</td>\n      <td>stablecoin</td>\n      <td>Ethereum</td>\n    </tr>\n    <tr>\n      <th>16</th>\n      <td>BNB</td>\n      <td>6.807966e+08</td>\n      <td>4.459966e+10</td>\n      <td>153845639</td>\n      <td>PoS</td>\n      <td>Binance Smart Chain</td>\n    </tr>\n    <tr>\n      <th>17</th>\n      <td>USDT</td>\n      <td>3.314948e+10</td>\n      <td>7.458818e+10</td>\n      <td>866300000</td>\n      <td>stablecoin</td>\n      <td>Ethereum</td>\n    </tr>\n    <tr>\n      <th>18</th>\n      <td>ETH</td>\n      <td>8.843689e+09</td>\n      <td>1.960824e+11</td>\n      <td>120249203</td>\n      <td>PoS</td>\n      <td>Ethereum</td>\n    </tr>\n    <tr>\n      <th>19</th>\n      <td>BTC</td>\n      <td>2.296764e+10</td>\n      <td>4.590837e+11</td>\n      <td>19508418</td>\n      <td>PoW</td>\n      <td>Bitcoin</td>\n    </tr>\n  </tbody>\n</table>\n</div>"
     },
     "execution_count": 2,
     "metadata": {},
     "output_type": "execute_result"
    }
   ],
   "source": [
    "import pandas as pd\n"
   ]
  },
  {
   "cell_type": "code",
   "execution_count": null,
   "outputs": [],
   "source": [
    "# read data from the given excel file\n",
    "data = pd.read_excel(\"coins_data.xlsx\")\n"
   ],
   "metadata": {
    "collapsed": false
   },
   "id": "cf3eadd357ff7e2e"
  },
  {
   "cell_type": "code",
   "execution_count": null,
   "outputs": [],
   "source": [],
   "metadata": {
    "collapsed": false
   },
   "id": "ac4fb676bd8d5be6"
  },
  {
   "cell_type": "code",
   "execution_count": null,
   "outputs": [],
   "source": [],
   "metadata": {
    "collapsed": false
   },
   "id": "949779b2f9fc6204"
  }
 ],
 "metadata": {
  "kernelspec": {
   "display_name": "Python 3",
   "language": "python",
   "name": "python3"
  },
  "language_info": {
   "codemirror_mode": {
    "name": "ipython",
    "version": 2
   },
   "file_extension": ".py",
   "mimetype": "text/x-python",
   "name": "python",
   "nbconvert_exporter": "python",
   "pygments_lexer": "ipython2",
   "version": "2.7.6"
  }
 },
 "nbformat": 4,
 "nbformat_minor": 5
}
